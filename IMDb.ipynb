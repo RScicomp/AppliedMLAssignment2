{
 "cells": [
  {
   "cell_type": "code",
   "execution_count": 7,
   "metadata": {},
   "outputs": [],
   "source": [
    "pathneg= \"./aclImdb/train/neg/\"\n",
    "pathpos=\"./aclImdb/train/pos/\""
   ]
  },
  {
   "cell_type": "code",
   "execution_count": 2,
   "metadata": {},
   "outputs": [],
   "source": [
    "import glob, os\n"
   ]
  },
  {
   "cell_type": "code",
   "execution_count": 9,
   "metadata": {},
   "outputs": [],
   "source": [
    "negfiles=[]\n",
    "posfiles=[]\n",
    "for file in glob.glob(pathneg+\"*.txt\"):\n",
    "    f = open(file, \"r\")\n",
    "    negfiles.append(f.read())\n",
    "    negfiles=[]\n",
    "for file in glob.glob(pathpos+\"*.txt\"):\n",
    "    f = open(file, \"r\")\n",
    "    posfiles.append(f.read())"
   ]
  },
  {
   "cell_type": "code",
   "execution_count": 11,
   "metadata": {},
   "outputs": [],
   "source": [
    "neg=list(zip(negfiles,[0]*len(negfiles)))\n",
    "pos=list(zip(posfiles,[1]*len(posfiles)))"
   ]
  },
  {
   "cell_type": "code",
   "execution_count": 13,
   "metadata": {},
   "outputs": [],
   "source": [
    "sentiments = neg + pos"
   ]
  },
  {
   "cell_type": "code",
   "execution_count": 1,
   "metadata": {},
   "outputs": [],
   "source": [
    "import glob, os\n",
    "def loadimdb_train(train=True):\n",
    "    if(train == True):\n",
    "        pathneg= \"./aclImdb/train/neg/\"\n",
    "        pathpos=\"./aclImdb/train/pos/\"\n",
    "    else:\n",
    "        pathneg= \"./aclImdb/test/neg/\"\n",
    "        pathpos=\"./aclImdb/test/pos/\"\n",
    "    negfiles=[]\n",
    "    posfiles=[]\n",
    "    for file in glob.glob(pathneg+\"*.txt\"):\n",
    "        f = open(file, \"r\")\n",
    "        negfiles.append(f.read())\n",
    "        negfiles=[]\n",
    "    for file in glob.glob(pathpos+\"*.txt\"):\n",
    "        f = open(file, \"r\")\n",
    "        posfiles.append(f.read())\n",
    "        \n",
    "    neg=list(zip(negfiles,[0]*len(negfiles)))\n",
    "    pos=list(zip(posfiles,[1]*len(posfiles)))\n",
    "    sentiments = neg + pos\n",
    "    return(sentiments)\n"
   ]
  }
 ],
 "metadata": {
  "kernelspec": {
   "display_name": "Python 3",
   "language": "python",
   "name": "python3"
  },
  "language_info": {
   "codemirror_mode": {
    "name": "ipython",
    "version": 3
   },
   "file_extension": ".py",
   "mimetype": "text/x-python",
   "name": "python",
   "nbconvert_exporter": "python",
   "pygments_lexer": "ipython3",
   "version": "3.6.8"
  }
 },
 "nbformat": 4,
 "nbformat_minor": 2
}
