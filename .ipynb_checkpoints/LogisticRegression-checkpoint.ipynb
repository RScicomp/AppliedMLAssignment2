{
 "cells": [
  {
   "cell_type": "code",
   "execution_count": 1,
   "metadata": {},
   "outputs": [],
   "source": [
    "import sklearn\n",
    "from sklearn import datasets\n",
    "from sklearn.linear_model import LogisticRegression\n",
    "from sklearn.feature_extraction.text import CountVectorizer\n",
    "from sklearn.feature_extraction.text import TfidfTransformer\n",
    "from sklearn.model_selection import cross_val_score\n",
    "from sklearn.model_selection import GridSearchCV, RandomizedSearchCV\n",
    "from sklearn.datasets import make_classification\n",
    "from sklearn.pipeline import Pipeline\n",
    "from time import time\n",
    "import numpy as np"
   ]
  },
  {
   "cell_type": "code",
   "execution_count": 2,
   "metadata": {},
   "outputs": [],
   "source": [
    "testdata=sklearn.datasets.fetch_20newsgroups(data_home=None, subset='test', categories=None, shuffle=True, random_state=42, remove=(['headers', 'footers', 'quotes']), download_if_missing=True)\n",
    "data=sklearn.datasets.fetch_20newsgroups(data_home=None, subset='train', categories=None, shuffle=True, random_state=42, remove=(['headers', 'footers', 'quotes']), download_if_missing=True)"
   ]
  },
  {
   "cell_type": "code",
   "execution_count": 3,
   "metadata": {},
   "outputs": [],
   "source": [
    "def report(results, n_top=3):\n",
    "    for i in range(1, n_top + 1):\n",
    "        candidates = np.flatnonzero(results['rank_test_score'] == i)\n",
    "        for candidate in candidates:\n",
    "            print(\"Model with rank: {0}\".format(i))\n",
    "            print(\"Mean validation score: {0:.3f} (std: {1:.3f})\"\n",
    "                  .format(results['mean_test_score'][candidate],\n",
    "                          results['std_test_score'][candidate]))\n",
    "            print(\"Parameters: {0}\".format(results['params'][candidate]))\n",
    "            print(\"\")\n",
    "            \n",
    "def build_pipeline(model = LogisticRegression(random_state=0)):\n",
    "    return Pipeline(([\n",
    "        ('vect',CountVectorizer()),\n",
    "        ('tfidf',TfidfTransformer()),\n",
    "        ('clf',model),\n",
    "    ]))\n",
    "\n",
    "\n",
    "def run_pipeline(text_ds,model=LogisticRegression(random_state=0),\n",
    "                 gridsearch = False,\n",
    "                 params ={'clf__C': [0.01, 0.05, 0.1, 0.3, 1],\n",
    "                          'tfidf__use_idf': (True, False),\n",
    "                          'clf__solver':['newton-cg', 'lbfgs', 'sag', 'saga'],\n",
    "                          'clf__class_weight': ['balanced',None]\n",
    "                         }\n",
    "                ):\n",
    "    \n",
    "    pl = build_pipeline(model)\n",
    "    pl.fit(text_ds.data,text_ds.target)\n",
    "    if(gridsearch != None):\n",
    "        if(gridsearch==True):\n",
    "            search = GridSearchCV(pl, params, n_jobs=-1,verbose=1)\n",
    "        else:\n",
    "            search =RandomizedSearchCV(pl, param_distributions=params,\n",
    "                                       n_iter=10)\n",
    "        start = time()\n",
    "        search.fit(text_ds.data,text_ds.target)\n",
    "        search.fit(data.data, data.target)\n",
    "        print(\"SearchCV took %.2f seconds for %d candidates\"\n",
    "          \" parameter settings.\" % ((time() - start), 10))\n",
    "        report(search.cv_results_)\n",
    "        return(search)\n",
    "    else:\n",
    "        return(pl)"
   ]
  },
  {
   "cell_type": "code",
   "execution_count": 4,
   "metadata": {
    "scrolled": true
   },
   "outputs": [
    {
     "name": "stderr",
     "output_type": "stream",
     "text": [
      "/usr/local/lib/python3.7/site-packages/sklearn/linear_model/logistic.py:432: FutureWarning: Default solver will be changed to 'lbfgs' in 0.22. Specify a solver to silence this warning.\n",
      "  FutureWarning)\n",
      "/usr/local/lib/python3.7/site-packages/sklearn/linear_model/logistic.py:469: FutureWarning: Default multi_class will be changed to 'auto' in 0.22. Specify the multi_class option to silence this warning.\n",
      "  \"this warning.\", FutureWarning)\n"
     ]
    }
   ],
   "source": [
    "plainLRPred = run_pipeline(data,LogisticRegression(), gridsearch=None).predict(testdata.data)"
   ]
  },
  {
   "cell_type": "code",
   "execution_count": 6,
   "metadata": {},
   "outputs": [
    {
     "data": {
      "text/plain": [
       "0.6775092936802974"
      ]
     },
     "execution_count": 6,
     "metadata": {},
     "output_type": "execute_result"
    }
   ],
   "source": [
    "np.mean(plainLRPred == testdata.target)"
   ]
  },
  {
   "cell_type": "code",
   "execution_count": 7,
   "metadata": {},
   "outputs": [
    {
     "name": "stderr",
     "output_type": "stream",
     "text": [
      "/usr/local/lib/python3.7/site-packages/sklearn/linear_model/logistic.py:432: FutureWarning: Default solver will be changed to 'lbfgs' in 0.22. Specify a solver to silence this warning.\n",
      "  FutureWarning)\n",
      "/usr/local/lib/python3.7/site-packages/sklearn/linear_model/logistic.py:469: FutureWarning: Default multi_class will be changed to 'auto' in 0.22. Specify the multi_class option to silence this warning.\n",
      "  \"this warning.\", FutureWarning)\n"
     ]
    },
    {
     "name": "stdout",
     "output_type": "stream",
     "text": [
      "Fitting 3 folds for each of 80 candidates, totalling 240 fits\n"
     ]
    },
    {
     "name": "stderr",
     "output_type": "stream",
     "text": [
      "/usr/local/lib/python3.7/site-packages/sklearn/model_selection/_split.py:1978: FutureWarning: The default value of cv will change from 3 to 5 in version 0.22. Specify it explicitly to silence this warning.\n",
      "  warnings.warn(CV_WARNING, FutureWarning)\n",
      "[Parallel(n_jobs=-1)]: Using backend LokyBackend with 12 concurrent workers.\n",
      "[Parallel(n_jobs=-1)]: Done  26 tasks      | elapsed:  1.0min\n",
      "[Parallel(n_jobs=-1)]: Done 176 tasks      | elapsed:  9.1min\n",
      "[Parallel(n_jobs=-1)]: Done 240 out of 240 | elapsed: 13.2min finished\n",
      "/usr/local/lib/python3.7/site-packages/sklearn/linear_model/logistic.py:469: FutureWarning: Default multi_class will be changed to 'auto' in 0.22. Specify the multi_class option to silence this warning.\n",
      "  \"this warning.\", FutureWarning)\n",
      "/usr/local/lib/python3.7/site-packages/sklearn/model_selection/_split.py:1978: FutureWarning: The default value of cv will change from 3 to 5 in version 0.22. Specify it explicitly to silence this warning.\n",
      "  warnings.warn(CV_WARNING, FutureWarning)\n"
     ]
    },
    {
     "name": "stdout",
     "output_type": "stream",
     "text": [
      "Fitting 3 folds for each of 80 candidates, totalling 240 fits\n"
     ]
    },
    {
     "name": "stderr",
     "output_type": "stream",
     "text": [
      "[Parallel(n_jobs=-1)]: Using backend LokyBackend with 12 concurrent workers.\n",
      "[Parallel(n_jobs=-1)]: Done  26 tasks      | elapsed:  1.0min\n",
      "[Parallel(n_jobs=-1)]: Done 176 tasks      | elapsed:  9.1min\n",
      "[Parallel(n_jobs=-1)]: Done 240 out of 240 | elapsed: 13.3min finished\n",
      "/usr/local/lib/python3.7/site-packages/sklearn/linear_model/logistic.py:469: FutureWarning: Default multi_class will be changed to 'auto' in 0.22. Specify the multi_class option to silence this warning.\n",
      "  \"this warning.\", FutureWarning)\n"
     ]
    },
    {
     "name": "stdout",
     "output_type": "stream",
     "text": [
      "SearchCV took 1612.99 seconds for 10 candidates parameter settings.\n",
      "Model with rank: 1\n",
      "Mean validation score: 0.727 (std: 0.004)\n",
      "Parameters: {'clf__C': 1, 'clf__class_weight': 'balanced', 'clf__solver': 'newton-cg', 'tfidf__use_idf': True}\n",
      "\n",
      "Model with rank: 2\n",
      "Mean validation score: 0.727 (std: 0.004)\n",
      "Parameters: {'clf__C': 1, 'clf__class_weight': 'balanced', 'clf__solver': 'lbfgs', 'tfidf__use_idf': True}\n",
      "\n",
      "Model with rank: 3\n",
      "Mean validation score: 0.721 (std: 0.008)\n",
      "Parameters: {'clf__C': 1, 'clf__class_weight': 'balanced', 'clf__solver': 'sag', 'tfidf__use_idf': True}\n",
      "\n"
     ]
    }
   ],
   "source": [
    "bestLR=run_pipeline(data,gridsearch=True)"
   ]
  },
  {
   "cell_type": "code",
   "execution_count": 13,
   "metadata": {},
   "outputs": [
    {
     "name": "stdout",
     "output_type": "stream",
     "text": [
      "0.6833510355815189\n",
      "0.6775092936802974\n"
     ]
    }
   ],
   "source": [
    "from sklearn.metrics import confusion_matrix, accuracy_score\n",
    "bestLRPred = bestLR.predict(testdata.data)\n",
    "print(accuracy_score(bestLRPred, testdata.target))\n",
    "print(accuracy_score(plainLRPred, testdata.target))"
   ]
  },
  {
   "cell_type": "code",
   "execution_count": 12,
   "metadata": {
    "scrolled": true
   },
   "outputs": [
    {
     "name": "stdout",
     "output_type": "stream",
     "text": [
      "[[152   7   5   2   1   0   1   5   4   8   5   3   6   8   7  24   7  22\n",
      "   16  39]\n",
      " [  2 269  23  13   7  52   2   1   2   3   2   6  13  10  10   2   2   1\n",
      "    1   4]\n",
      " [  2  18 245  33  10  31   3   2   0   0   0   7  10   2   3   3   2   1\n",
      "    0   2]\n",
      " [  0  12  37 252  29   8  24   1   1   0   1   2  23   2   0   0   1   2\n",
      "    0   2]\n",
      " [  1   8  16  29 267   5  13   1   1   2   0   4  10   2   3   0   2   0\n",
      "    0   0]\n",
      " [  1  19   9   8   1 263   0   0   1   1   0   3   2   0   1   0   0   1\n",
      "    1   0]\n",
      " [  1   7   3  12   6   5 305  10   6   5   2   4  12   7   3   1   2   1\n",
      "    0   2]\n",
      " [ 14   7  20   9  23   8  18 304  40  19  12  19  24  25  26  16  20   7\n",
      "   13  12]\n",
      " [  5   3   2   0   2   0   4  14 298   5   1   5   8   7   3   2   7   9\n",
      "    2   2]\n",
      " [  3   4   3   1   1   3   2   6   4 317  19   7   4   1   3   3   4   6\n",
      "    2   3]\n",
      " [  1   0   1   2   1   0   1   2   0  18 339   1   0   3   2   1   0   0\n",
      "    2   2]\n",
      " [  1   3   3   2   2   3   1   1   1   0   1 263  13   0   0   0   5   4\n",
      "    1   2]\n",
      " [  3  11   0  28  27   5   8  24  11   0   1  15 241   9  12   2   2   3\n",
      "    3   0]\n",
      " [  7   3   4   0   2   1   1   0   5   3   2   4  10 294   8   7   2   2\n",
      "    7   8]\n",
      " [ 14  10   9   1   4   5   2   7   6   3   4   6   9   4 291   4   9   1\n",
      "    8   4]\n",
      " [ 49   3   1   0   0   5   1   0   3   4   2   2   2   5   1 302   5  11\n",
      "    5  57]\n",
      " [  9   0   2   0   2   0   2   5   4   0   3  18   1   2   5   0 248   8\n",
      "   85  18]\n",
      " [ 12   1   2   0   0   0   1   3   1   0   1   6   1   3   2   1   5 273\n",
      "    7   6]\n",
      " [  8   3   5   0   0   1   0   6   7   6   1  14   2   9  13   3  25  21\n",
      "  145   9]\n",
      " [ 34   1   4   0   0   0   1   4   3   3   3   7   2   3   1  27  16   3\n",
      "   12  79]]\n",
      "[[141   5   3   1   0   0   0   2   3   7   5   3   2   6   4  22   6  22\n",
      "   18  45]\n",
      " [  1 272  25  13   7  46   3   2   1   3   1   7  15  11  11   2   1   2\n",
      "    1   4]\n",
      " [  1  19 240  38   8  29   2   1   0   0   0   5  10   1   2   3   2   1\n",
      "    0   2]\n",
      " [  0   8  33 243  27   7  17   1   1   0   1   2  20   1   0   0   1   0\n",
      "    0   0]\n",
      " [  2   7  17  28 256   4  12   0   0   1   0   5   8   1   1   0   2   0\n",
      "    0   0]\n",
      " [  4  16  11   4   4 271   0   2   0   1   1   6   3   0   1   1   1   1\n",
      "    1   0]\n",
      " [  2   8   5  12  12  11 313  13   8   7   0   4  21  11   6   2   4   3\n",
      "    2   6]\n",
      " [  4   3   1   5   9   1  10 278  24   0   1   6  10  10   9   1   7   2\n",
      "    7   5]\n",
      " [  9   5   3   1   7   1   6  14 310   6   4   9  11   6   3   5   9  11\n",
      "   10   7]\n",
      " [ 18   8  24   8  15   6  11  29  19 330  26  27  16  15  21  19  21  14\n",
      "   13  10]\n",
      " [  1   0   1   0   3   0   0   1   0  26 346   0   1   3   2   1   1   1\n",
      "    4   2]\n",
      " [  2   5   4   2   2   2   1   1   0   0   1 261  16   0   0   0   5   3\n",
      "    1   1]\n",
      " [  6  14   2  34  25   6   8  26   9   3   2  10 238   9  17   3   3   4\n",
      "    3   1]\n",
      " [ 10   3   4   0   0   2   1   3   6   2   4  10  10 301  10  11   4   4\n",
      "    7  15]\n",
      " [ 17  11  11   2   8   4   4   9   6   3   2   6   8   6 290   4   7   2\n",
      "   11   5]\n",
      " [ 63   3   1   0   1   4   1   0   2   5   1   2   2   3   2 313   9   9\n",
      "    4  67]\n",
      " [ 13   0   3   0   1   0   0   5   5   0   1  20   1   1   4   2 255   8\n",
      "   91  21]\n",
      " [ 10   1   2   0   0   0   1   3   0   0   3   4   1   4   2   2   4 276\n",
      "    8  11]\n",
      " [  5   1   3   1   0   1   0   5   4   3   0   8   0   7   9   3  18  13\n",
      "  127   7]\n",
      " [ 10   0   1   0   0   0   0   1   0   0   0   1   0   0   0   4   4   0\n",
      "    2  42]]\n"
     ]
    }
   ],
   "source": [
    "print(confusion_matrix(bestLRPred,testdata.target))\n",
    "print(confusion_matrix(plainLRPred,testdata.target))\n"
   ]
  },
  {
   "cell_type": "code",
   "execution_count": null,
   "metadata": {},
   "outputs": [],
   "source": []
  }
 ],
 "metadata": {
  "kernelspec": {
   "display_name": "Python 3",
   "language": "python",
   "name": "python3"
  },
  "language_info": {
   "codemirror_mode": {
    "name": "ipython",
    "version": 3
   },
   "file_extension": ".py",
   "mimetype": "text/x-python",
   "name": "python",
   "nbconvert_exporter": "python",
   "pygments_lexer": "ipython3",
   "version": "3.7.4"
  }
 },
 "nbformat": 4,
 "nbformat_minor": 2
}
