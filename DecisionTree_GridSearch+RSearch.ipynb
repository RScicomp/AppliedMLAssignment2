{
 "cells": [
  {
   "cell_type": "code",
   "execution_count": 14,
   "metadata": {},
   "outputs": [],
   "source": [
    "import sklearn\n",
    "from sklearn import datasets\n",
    "import pandas as pd"
   ]
  },
  {
   "cell_type": "code",
   "execution_count": 62,
   "metadata": {},
   "outputs": [],
   "source": [
    "from sklearn.model_selection import cross_val_score\n",
    "def load_data(data, input_features, target_feature, cat_features=None, num_features=None, txt_features=None):\n",
    "    all_features = input_features + [target_feature]\n",
    "    print(data.values.shape)\n",
    "    data = data[all_features]\n",
    "    data.dropna(subset=[target_feature], inplace=True)\n",
    "\n",
    "    # change categorical features to numeric code\n",
    "    if(cat_features!=None):\n",
    "        data[cat_features] = data[cat_features].astype('category')\n",
    "        data[cat_features] = data[cat_features].apply(lambda x: x.cat.codes)\n",
    "    # replace nan with 0 in numerical features\n",
    "    if(num_features!=None):\n",
    "        data[num_features] = data[num_features].fillna(0.)\n",
    "        for feature in num_features:\n",
    "            data[feature] = data[feature].apply(lambda x: replace_string(x))\n",
    "    if(txt_features!=None):\n",
    "        if txt_features:\n",
    "            data[txt_features] = data[txt_features].fillna('')\n",
    "\n",
    "    return data\n"
   ]
  },
  {
   "cell_type": "code",
   "execution_count": 46,
   "metadata": {},
   "outputs": [],
   "source": [
    "data=sklearn.datasets.fetch_20newsgroups(data_home=None, subset='train', categories=None, shuffle=True, random_state=42, remove=(), download_if_missing=True)"
   ]
  },
  {
   "cell_type": "code",
   "execution_count": 27,
   "metadata": {},
   "outputs": [],
   "source": [
    "data = pd.DataFrame(list(zip(data['data'],data['target'])))"
   ]
  },
  {
   "cell_type": "code",
   "execution_count": 29,
   "metadata": {},
   "outputs": [],
   "source": [
    "data.columns = ['text','category']"
   ]
  },
  {
   "cell_type": "code",
   "execution_count": 42,
   "metadata": {},
   "outputs": [
    {
     "name": "stdout",
     "output_type": "stream",
     "text": [
      "(11314, 2)\n"
     ]
    }
   ],
   "source": [
    "data=load_data(data,['text'],'category',txt_features=['text'])"
   ]
  },
  {
   "cell_type": "code",
   "execution_count": 47,
   "metadata": {},
   "outputs": [
    {
     "data": {
      "text/plain": [
       "(11314, 130107)"
      ]
     },
     "execution_count": 47,
     "metadata": {},
     "output_type": "execute_result"
    }
   ],
   "source": [
    "from sklearn.feature_extraction.text import CountVectorizer\n",
    "#Count vectorizer\n",
    "count_vect = CountVectorizer()\n",
    "X_train_counts = count_vect.fit_transform(data.data)\n",
    "print(X_train_counts.shape)\n",
    "#counts\n",
    "count_vect.vocabulary_"
   ]
  },
  {
   "cell_type": "code",
   "execution_count": 57,
   "metadata": {},
   "outputs": [
    {
     "data": {
      "text/plain": [
       "(11314, 130107)"
      ]
     },
     "execution_count": 57,
     "metadata": {},
     "output_type": "execute_result"
    }
   ],
   "source": [
    "#frequencies\n",
    "from sklearn.feature_extraction.text import TfidfTransformer\n",
    "tf_transformer = TfidfTransformer(use_idf=False).fit(X_train_counts)\n",
    "X_train_tf = tf_transformer.transform(X_train_counts)\n",
    "X_train_tf.shape"
   ]
  },
  {
   "cell_type": "code",
   "execution_count": 64,
   "metadata": {},
   "outputs": [
    {
     "data": {
      "text/plain": [
       "197"
      ]
     },
     "execution_count": 64,
     "metadata": {},
     "output_type": "execute_result"
    }
   ],
   "source": [
    "model.get_depth()"
   ]
  },
  {
   "cell_type": "code",
   "execution_count": 145,
   "metadata": {},
   "outputs": [],
   "source": [
    "from sklearn.tree import DecisionTreeClassifier\n",
    "model = DecisionTreeClassifier(random_state=0,criterion ='gini',max_depth=50)"
   ]
  },
  {
   "cell_type": "code",
   "execution_count": 141,
   "metadata": {},
   "outputs": [],
   "source": [
    "prediction=model.fit(X_train_tf,data.target)"
   ]
  },
  {
   "cell_type": "code",
   "execution_count": 70,
   "metadata": {},
   "outputs": [
    {
     "data": {
      "text/plain": [
       "0.9999116139296447"
      ]
     },
     "execution_count": 70,
     "metadata": {},
     "output_type": "execute_result"
    }
   ],
   "source": [
    "prediction.score(X_train_tf,data.target)#(self, X, y, sample_weight=None)"
   ]
  },
  {
   "cell_type": "code",
   "execution_count": 146,
   "metadata": {},
   "outputs": [
    {
     "data": {
      "text/plain": [
       "array([0.55523179, 0.56241717, 0.55231014])"
      ]
     },
     "execution_count": 146,
     "metadata": {},
     "output_type": "execute_result"
    }
   ],
   "source": [
    "cross_val_score(model, X_train_tf, data.target, cv=3)"
   ]
  },
  {
   "cell_type": "code",
   "execution_count": null,
   "metadata": {},
   "outputs": [],
   "source": []
  },
  {
   "cell_type": "code",
   "execution_count": 93,
   "metadata": {},
   "outputs": [],
   "source": [
    "def loguniform(low=0, high=1, size=None):\n",
    "    return stats.reciprocal(np.exp(low), np.exp(high))"
   ]
  },
  {
   "cell_type": "code",
   "execution_count": 94,
   "metadata": {},
   "outputs": [
    {
     "name": "stderr",
     "output_type": "stream",
     "text": [
      "/Users/Rgao/anaconda/lib/python3.6/site-packages/sklearn/model_selection/_split.py:1978: FutureWarning: The default value of cv will change from 3 to 5 in version 0.22. Specify it explicitly to silence this warning.\n",
      "  warnings.warn(CV_WARNING, FutureWarning)\n"
     ]
    },
    {
     "name": "stdout",
     "output_type": "stream",
     "text": [
      "RandomizedSearchCV took 4.13 seconds for 20 candidates parameter settings.\n",
      "Model with rank: 1\n",
      "Mean validation score: 0.732 (std: 0.028)\n",
      "Parameters: {'alpha': 2.6417350951260086, 'average': False, 'l1_ratio': 0.14839141435592695}\n",
      "\n",
      "Model with rank: 2\n",
      "Mean validation score: 0.698 (std: 0.051)\n",
      "Parameters: {'alpha': 1.331553941750644, 'average': False, 'l1_ratio': 0.315674117038799}\n",
      "\n",
      "Model with rank: 3\n",
      "Mean validation score: 0.594 (std: 0.044)\n",
      "Parameters: {'alpha': 1.224576524194162, 'average': False, 'l1_ratio': 0.4500802010879611}\n",
      "\n"
     ]
    },
    {
     "name": "stderr",
     "output_type": "stream",
     "text": [
      "/Users/Rgao/anaconda/lib/python3.6/site-packages/sklearn/model_selection/_search.py:814: DeprecationWarning: The default of the `iid` parameter will change from True to False in version 0.22 and will be removed in 0.24. This will change numeric results when test-set sizes are unequal.\n",
      "  DeprecationWarning)\n"
     ]
    }
   ],
   "source": [
    "\n",
    "import numpy as np\n",
    "\n",
    "from time import time\n",
    "import scipy.stats as stats\n",
    "#from scipy.stats import loguniform\n",
    "\n",
    "\n",
    "from sklearn.model_selection import GridSearchCV, RandomizedSearchCV\n",
    "from sklearn.datasets import load_digits\n",
    "from sklearn.linear_model import SGDClassifier\n",
    "\n",
    "# get some data\n",
    "X, y = load_digits(return_X_y=True)\n",
    "\n",
    "# build a classifier\n",
    "clf = SGDClassifier(loss='hinge', penalty='elasticnet',\n",
    "                    fit_intercept=True)\n",
    "\n",
    "\n",
    "# Utility function to report best scores\n",
    "def report(results, n_top=3):\n",
    "    for i in range(1, n_top + 1):\n",
    "        candidates = np.flatnonzero(results['rank_test_score'] == i)\n",
    "        for candidate in candidates:\n",
    "            print(\"Model with rank: {0}\".format(i))\n",
    "            print(\"Mean validation score: {0:.3f} (std: {1:.3f})\"\n",
    "                  .format(results['mean_test_score'][candidate],\n",
    "                          results['std_test_score'][candidate]))\n",
    "            print(\"Parameters: {0}\".format(results['params'][candidate]))\n",
    "            print(\"\")\n",
    "\n",
    "\n",
    "# specify parameters and distributions to sample from\n",
    "param_dist = {'average': [True, False],\n",
    "              'l1_ratio': stats.uniform(0, 1),\n",
    "              'alpha': loguniform(1e-4, 1e0)}\n",
    "\n",
    "# run randomized search\n",
    "n_iter_search = 20\n",
    "random_search = RandomizedSearchCV(clf, param_distributions=param_dist,\n",
    "                                   n_iter=n_iter_search)\n",
    "\n",
    "start = time()\n",
    "random_search.fit(X, y)\n",
    "print(\"RandomizedSearchCV took %.2f seconds for %d candidates\"\n",
    "      \" parameter settings.\" % ((time() - start), n_iter_search))\n",
    "report(random_search.cv_results_)"
   ]
  },
  {
   "cell_type": "code",
   "execution_count": 163,
   "metadata": {},
   "outputs": [],
   "source": [
    " param_dist = {'splitter':['best','random'],\n",
    "                  'max_features':[\"auto\",\"sqrt\",\"log2\",None],\n",
    "                  'class_weight': ['balanced',None],\n",
    "                  'min_samples_leaf':[1,5,10,25,50,100],\n",
    "                  'min_samples_split':[2,5,10,25,50,100],\n",
    "                  'max_depth':[10,25,50,100,200]\n",
    "              }\n",
    "n_iter_search = 20\n",
    "random_search = RandomizedSearchCV(model, param_distributions=param_dist,\n",
    "                                   n_iter=n_iter_search)"
   ]
  },
  {
   "cell_type": "code",
   "execution_count": 164,
   "metadata": {},
   "outputs": [
    {
     "name": "stderr",
     "output_type": "stream",
     "text": [
      "/Users/Rgao/anaconda/lib/python3.6/site-packages/sklearn/model_selection/_split.py:1978: FutureWarning: The default value of cv will change from 3 to 5 in version 0.22. Specify it explicitly to silence this warning.\n",
      "  warnings.warn(CV_WARNING, FutureWarning)\n"
     ]
    },
    {
     "data": {
      "text/plain": [
       "RandomizedSearchCV(cv='warn', error_score='raise-deprecating',\n",
       "                   estimator=DecisionTreeClassifier(class_weight=None,\n",
       "                                                    criterion='gini',\n",
       "                                                    max_depth=50,\n",
       "                                                    max_features=None,\n",
       "                                                    max_leaf_nodes=None,\n",
       "                                                    min_impurity_decrease=0.0,\n",
       "                                                    min_impurity_split=None,\n",
       "                                                    min_samples_leaf=1,\n",
       "                                                    min_samples_split=2,\n",
       "                                                    min_weight_fraction_leaf=0.0,\n",
       "                                                    presort=False,\n",
       "                                                    random_state=0,\n",
       "                                                    splitter='best'),\n",
       "                   iid='w...0, n_jobs=None,\n",
       "                   param_distributions={'class_weight': ['balanced', None],\n",
       "                                        'max_depth': [10, 25, 50, 100, 200],\n",
       "                                        'max_features': ['auto', 'sqrt', 'log2',\n",
       "                                                         None],\n",
       "                                        'min_samples_leaf': [1, 5, 10, 25, 50,\n",
       "                                                             100],\n",
       "                                        'min_samples_split': [2, 5, 10, 25, 50,\n",
       "                                                              100],\n",
       "                                        'splitter': ['best', 'random']},\n",
       "                   pre_dispatch='2*n_jobs', random_state=None, refit=True,\n",
       "                   return_train_score=False, scoring=None, verbose=0)"
      ]
     },
     "execution_count": 164,
     "metadata": {},
     "output_type": "execute_result"
    }
   ],
   "source": [
    "start = time()\n",
    "random_search.fit(X_train_tf, data.target)"
   ]
  },
  {
   "cell_type": "code",
   "execution_count": 165,
   "metadata": {},
   "outputs": [
    {
     "name": "stdout",
     "output_type": "stream",
     "text": [
      "RandomizedSearchCV took 37.32 seconds for 20 candidates parameter settings.\n",
      "Model with rank: 1\n",
      "Mean validation score: 0.466 (std: 0.012)\n",
      "Parameters: {'splitter': 'best', 'min_samples_split': 10, 'min_samples_leaf': 100, 'max_features': None, 'max_depth': 50, 'class_weight': None}\n",
      "\n",
      "Model with rank: 2\n",
      "Mean validation score: 0.416 (std: 0.017)\n",
      "Parameters: {'splitter': 'random', 'min_samples_split': 10, 'min_samples_leaf': 5, 'max_features': None, 'max_depth': 25, 'class_weight': None}\n",
      "\n",
      "Model with rank: 3\n",
      "Mean validation score: 0.365 (std: 0.022)\n",
      "Parameters: {'splitter': 'best', 'min_samples_split': 5, 'min_samples_leaf': 1, 'max_features': 'auto', 'max_depth': 100, 'class_weight': None}\n",
      "\n"
     ]
    }
   ],
   "source": [
    "print(\"RandomizedSearchCV took %.2f seconds for %d candidates\"\n",
    "      \" parameter settings.\" % ((time() - start), n_iter_search))\n",
    "report(random_search.cv_results_)\n"
   ]
  },
  {
   "cell_type": "code",
   "execution_count": null,
   "metadata": {},
   "outputs": [],
   "source": [
    "def randomizedsearch(X,y,model=DecisionTreeClassifier(random_state=0,criterion ='gini'),\n",
    "                     n_iter_search=20,\n",
    "                      param_dist = {'splitter':['best','random'],\n",
    "                                    'max_features':[\"auto\",\"sqrt\",\"log2\",None],\n",
    "                                    'class_weight': ['balanced',None],\n",
    "                                    'min_samples_leaf':[1,5,10,25,50,100],\n",
    "                                    'min_samples_split':[2,5,10,25,50,100],\n",
    "                                    'max_depth':[10,25,50,100,200]}):\n",
    "    random_search = RandomizedSearchCV(model, param_distributions=param_dist,\n",
    "                                   n_iter=n_iter_search)\n",
    "    start = time()\n",
    "    random_search.fit(X_train_tf, data.target)\n",
    "    print(\"RandomizedSearchCV took %.2f seconds for %d candidates\"\n",
    "      \" parameter settings.\" % ((time() - start), n_iter_search))\n",
    "    report(random_search.cv_results_)\n",
    "    return(randomized_search)\n",
    "    \n",
    "def gridsearch(X,y,model=DecisionTreeClassifier(random_state=0,criterion ='gini'),\n",
    "               param_grid = {'splitter':['best','random'],\n",
    "                                    'max_features':[\"auto\",\"sqrt\",\"log2\",None],\n",
    "                                    'class_weight': ['balanced',None],\n",
    "                                    'min_samples_leaf':[1,5,10,25,50,100],\n",
    "                                    'min_samples_split':[2,5,10,25,50,100],\n",
    "                                    'max_depth':[10,25,50,100,200]}):\n",
    "    grid_search = GridSearchCV(model, param_grid=param_grid)\n",
    "    start = time()\n",
    "    grid_search.fit(X, y)\n",
    "    print(\"GridSearchCV took %.2f seconds for %d candidate parameter settings.\"\n",
    "      % (time() - start, len(grid_search.cv_results_['params'])))\n",
    "    report(grid_search.cv_results_)\n",
    "    return(grid_search)"
   ]
  },
  {
   "cell_type": "code",
   "execution_count": 169,
   "metadata": {},
   "outputs": [
    {
     "name": "stderr",
     "output_type": "stream",
     "text": [
      "/Users/Rgao/anaconda/lib/python3.6/site-packages/sklearn/model_selection/_split.py:1978: FutureWarning: The default value of cv will change from 3 to 5 in version 0.22. Specify it explicitly to silence this warning.\n",
      "  warnings.warn(CV_WARNING, FutureWarning)\n"
     ]
    },
    {
     "name": "stdout",
     "output_type": "stream",
     "text": [
      "RandomizedSearchCV took 99.75 seconds for 20 candidates parameter settings.\n",
      "Model with rank: 1\n",
      "Mean validation score: 0.607 (std: 0.002)\n",
      "Parameters: {'splitter': 'best', 'min_samples_split': 2, 'min_samples_leaf': 5, 'max_features': None, 'max_depth': 200, 'class_weight': None}\n",
      "\n",
      "Model with rank: 2\n",
      "Mean validation score: 0.540 (std: 0.012)\n",
      "Parameters: {'splitter': 'random', 'min_samples_split': 25, 'min_samples_leaf': 10, 'max_features': None, 'max_depth': 50, 'class_weight': None}\n",
      "\n",
      "Model with rank: 3\n",
      "Mean validation score: 0.487 (std: 0.016)\n",
      "Parameters: {'splitter': 'random', 'min_samples_split': 25, 'min_samples_leaf': 50, 'max_features': None, 'max_depth': 50, 'class_weight': 'balanced'}\n",
      "\n"
     ]
    }
   ],
   "source": [
    "randomizedsearch(X_train_tf,data.target)"
   ]
  },
  {
   "cell_type": "code",
   "execution_count": null,
   "metadata": {},
   "outputs": [
    {
     "name": "stderr",
     "output_type": "stream",
     "text": [
      "/Users/Rgao/anaconda/lib/python3.6/site-packages/sklearn/model_selection/_split.py:1978: FutureWarning: The default value of cv will change from 3 to 5 in version 0.22. Specify it explicitly to silence this warning.\n",
      "  warnings.warn(CV_WARNING, FutureWarning)\n"
     ]
    }
   ],
   "source": [
    "gridsearch(X_train_tf,data.target)"
   ]
  },
  {
   "cell_type": "code",
   "execution_count": 103,
   "metadata": {},
   "outputs": [
    {
     "data": {
      "text/plain": [
       "dict_keys(['class_weight', 'criterion', 'max_depth', 'max_features', 'max_leaf_nodes', 'min_impurity_decrease', 'min_impurity_split', 'min_samples_leaf', 'min_samples_split', 'min_weight_fraction_leaf', 'presort', 'random_state', 'splitter'])"
      ]
     },
     "execution_count": 103,
     "metadata": {},
     "output_type": "execute_result"
    }
   ],
   "source": [
    "model.get_params().keys()"
   ]
  }
 ],
 "metadata": {
  "kernelspec": {
   "display_name": "Python 3",
   "language": "python",
   "name": "python3"
  },
  "language_info": {
   "codemirror_mode": {
    "name": "ipython",
    "version": 3
   },
   "file_extension": ".py",
   "mimetype": "text/x-python",
   "name": "python",
   "nbconvert_exporter": "python",
   "pygments_lexer": "ipython3",
   "version": "3.6.8"
  }
 },
 "nbformat": 4,
 "nbformat_minor": 2
}
