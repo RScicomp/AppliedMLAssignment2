{
 "cells": [
  {
   "cell_type": "code",
   "execution_count": 1,
   "metadata": {},
   "outputs": [],
   "source": [
    "import sklearn\n",
    "from sklearn import datasets\n",
    "import pandas as pd\n",
    "from sklearn.tree import DecisionTreeClassifier"
   ]
  },
  {
   "cell_type": "code",
   "execution_count": 2,
   "metadata": {},
   "outputs": [],
   "source": [
    "testdata=sklearn.datasets.fetch_20newsgroups(data_home=None, subset='test', categories=None, shuffle=True, random_state=42, remove=(), download_if_missing=True)\n",
    "data=sklearn.datasets.fetch_20newsgroups(data_home=None, subset='train', categories=None, shuffle=True, random_state=42, remove=(), download_if_missing=True)"
   ]
  },
  {
   "cell_type": "code",
   "execution_count": 3,
   "metadata": {},
   "outputs": [],
   "source": [
    "from sklearn.feature_extraction.text import CountVectorizer\n",
    "from sklearn.feature_extraction.text import TfidfTransformer\n",
    "from sklearn.model_selection import cross_val_score\n",
    "from sklearn.model_selection import GridSearchCV, RandomizedSearchCV\n",
    "from sklearn.ensemble import AdaBoostClassifier\n",
    "from sklearn.datasets import make_classification\n",
    "from time import time\n",
    "import numpy as np\n",
    "def load_data(data, input_features, target_feature, cat_features=None, num_features=None, txt_features=None):\n",
    "    all_features = input_features + [target_feature]\n",
    "    print(data.values.shape)\n",
    "    data = data[all_features]\n",
    "    data.dropna(subset=[target_feature], inplace=True)\n",
    "\n",
    "    # change categorical features to numeric code\n",
    "    if(cat_features!=None):\n",
    "        data[cat_features] = data[cat_features].astype('category')\n",
    "        data[cat_features] = data[cat_features].apply(lambda x: x.cat.codes)\n",
    "    # replace nan with 0 in numerical features\n",
    "    if(num_features!=None):\n",
    "        data[num_features] = data[num_features].fillna(0.)\n",
    "        for feature in num_features:\n",
    "            data[feature] = data[feature].apply(lambda x: replace_string(x))\n",
    "    if(txt_features!=None):\n",
    "        if txt_features:\n",
    "            data[txt_features] = data[txt_features].fillna('')\n",
    "\n",
    "    return data\n",
    "def report(results, n_top=3):\n",
    "    for i in range(1, n_top + 1):\n",
    "        candidates = np.flatnonzero(results['rank_test_score'] == i)\n",
    "        for candidate in candidates:\n",
    "            print(\"Model with rank: {0}\".format(i))\n",
    "            print(\"Mean validation score: {0:.3f} (std: {1:.3f})\"\n",
    "                  .format(results['mean_test_score'][candidate],\n",
    "                          results['std_test_score'][candidate]))\n",
    "            print(\"Parameters: {0}\".format(results['params'][candidate]))\n",
    "            print(\"\")\n",
    "            \n",
    "from sklearn.pipeline import Pipeline\n",
    "def build_pipeline(model = DecisionTreeClassifier(random_state=0, criterion='gini')):\n",
    "    return Pipeline(([\n",
    "        ('vect',CountVectorizer()),\n",
    "        ('tfidf',TfidfTransformer()),\n",
    "        ('clf',model),\n",
    "    ]))\n",
    "def run_pipeline(text_ds,model=DecisionTreeClassifier(random_state=0, criterion='gini'),\n",
    "                 gridsearch =False,\n",
    "                 params ={'clf__splitter':['best','random'],\n",
    "                          'tfidf__norm':['l1'],\n",
    "                                    'clf__max_features':[\"auto\",\"sqrt\",\"log2\",None],\n",
    "                                    'clf__class_weight': ['balanced',None],\n",
    "                                    'clf__min_samples_leaf':[1,5,100],\n",
    "                                    'clf__min_samples_split':[2,100],\n",
    "                                    'clf__max_depth':[10,25,50,100,None],\n",
    "                                    'clf__max_leaf_nodes':[20,50,200,None]},\n",
    "                ):\n",
    "    pl = build_pipeline(model)\n",
    "    pl.fit(text_ds.data,text_ds.target)\n",
    "    \n",
    "    if(gridsearch==True):\n",
    "        search = GridSearchCV(pl, params, n_jobs=-1,verbose=1)\n",
    "    else:\n",
    "        search =  RandomizedSearchCV(pl, param_distributions=params,\n",
    "                                   n_iter=10)\n",
    "    start = time()\n",
    "    search.fit(text_ds.data,text_ds.target)\n",
    "    search.fit(data.data, data.target)\n",
    "    print(\"SearchCV took %.2f seconds for %d candidates\"\n",
    "      \" parameter settings.\" % ((time() - start), 10))\n",
    "    report(search.cv_results_)\n",
    "    return(search)\n"
   ]
  },
  {
   "cell_type": "code",
   "execution_count": 28,
   "metadata": {},
   "outputs": [
    {
     "data": {
      "text/plain": [
       "dict_keys(['memory', 'steps', 'verbose', 'vect', 'tfidf', 'clf', 'vect__analyzer', 'vect__binary', 'vect__decode_error', 'vect__dtype', 'vect__encoding', 'vect__input', 'vect__lowercase', 'vect__max_df', 'vect__max_features', 'vect__min_df', 'vect__ngram_range', 'vect__preprocessor', 'vect__stop_words', 'vect__strip_accents', 'vect__token_pattern', 'vect__tokenizer', 'vect__vocabulary', 'tfidf__norm', 'tfidf__smooth_idf', 'tfidf__sublinear_tf', 'tfidf__use_idf', 'clf__algorithm', 'clf__base_estimator', 'clf__learning_rate', 'clf__n_estimators', 'clf__random_state'])"
      ]
     },
     "execution_count": 28,
     "metadata": {},
     "output_type": "execute_result"
    }
   ],
   "source": [
    "build_pipeline(model=AdaBoostClassifier( random_state=0)).get_params().keys()"
   ]
  },
  {
   "cell_type": "code",
   "execution_count": null,
   "metadata": {},
   "outputs": [],
   "source": [
    "bestdecitree=run_pipeline(data)"
   ]
  },
  {
   "cell_type": "code",
   "execution_count": 4,
   "metadata": {},
   "outputs": [
    {
     "name": "stderr",
     "output_type": "stream",
     "text": [
      "/Users/Rgao/anaconda/lib/python3.6/site-packages/sklearn/model_selection/_split.py:1978: FutureWarning: The default value of cv will change from 3 to 5 in version 0.22. Specify it explicitly to silence this warning.\n",
      "  warnings.warn(CV_WARNING, FutureWarning)\n",
      "/Users/Rgao/anaconda/lib/python3.6/site-packages/sklearn/model_selection/_split.py:1978: FutureWarning: The default value of cv will change from 3 to 5 in version 0.22. Specify it explicitly to silence this warning.\n",
      "  warnings.warn(CV_WARNING, FutureWarning)\n"
     ]
    },
    {
     "name": "stdout",
     "output_type": "stream",
     "text": [
      "SearchCV took 991.76 seconds for 10 candidates parameter settings.\n",
      "Model with rank: 1\n",
      "Mean validation score: 0.543 (std: 0.018)\n",
      "Parameters: {'clf__n_estimators': 50, 'clf__learning_rate': 0.9, 'clf__algorithm': 'SAMME.R'}\n",
      "\n",
      "Model with rank: 2\n",
      "Mean validation score: 0.542 (std: 0.018)\n",
      "Parameters: {'clf__n_estimators': 100, 'clf__learning_rate': 0.9, 'clf__algorithm': 'SAMME.R'}\n",
      "\n",
      "Model with rank: 3\n",
      "Mean validation score: 0.538 (std: 0.010)\n",
      "Parameters: {'clf__n_estimators': 50, 'clf__learning_rate': 0.5, 'clf__algorithm': 'SAMME.R'}\n",
      "\n"
     ]
    }
   ],
   "source": [
    "bestada = run_pipeline(data,AdaBoostClassifier(random_state=0),\n",
    "                      params={\n",
    "                             'clf__n_estimators': [10,50,100],\n",
    "                             'clf__learning_rate':[.1,.3,.5,.7,.9,1],\n",
    "                             'clf__algorithm':['SAMME.R','SAMME'],\n",
    "                             })"
   ]
  },
  {
   "cell_type": "code",
   "execution_count": 11,
   "metadata": {},
   "outputs": [],
   "source": [
    "adapred = bestada.predict(testdata.data)\n",
    "dtpred = bestdecitree(testdata.data)"
   ]
  },
  {
   "cell_type": "code",
   "execution_count": null,
   "metadata": {},
   "outputs": [],
   "source": [
    "from sklearn.metrics import confusion_matrix, accuracy_score\n",
    "confusion_matrix(adapred,testdata.data)\n",
    "confusion_matrix(dtpred,testdata.data)"
   ]
  },
  {
   "cell_type": "code",
   "execution_count": 7,
   "metadata": {},
   "outputs": [
    {
     "name": "stderr",
     "output_type": "stream",
     "text": [
      "/Users/Rgao/anaconda/lib/python3.6/site-packages/sklearn/model_selection/_split.py:1978: FutureWarning: The default value of cv will change from 3 to 5 in version 0.22. Specify it explicitly to silence this warning.\n",
      "  warnings.warn(CV_WARNING, FutureWarning)\n",
      "/Users/Rgao/anaconda/lib/python3.6/site-packages/sklearn/model_selection/_split.py:1978: FutureWarning: The default value of cv will change from 3 to 5 in version 0.22. Specify it explicitly to silence this warning.\n",
      "  warnings.warn(CV_WARNING, FutureWarning)\n",
      "/Users/Rgao/anaconda/lib/python3.6/site-packages/sklearn/model_selection/_split.py:1978: FutureWarning: The default value of cv will change from 3 to 5 in version 0.22. Specify it explicitly to silence this warning.\n",
      "  warnings.warn(CV_WARNING, FutureWarning)\n"
     ]
    },
    {
     "data": {
      "text/plain": [
       "array([0.44201747, 0.39721116, 0.4692492 ])"
      ]
     },
     "execution_count": 7,
     "metadata": {},
     "output_type": "execute_result"
    }
   ],
   "source": [
    "#cuda\n",
    "from sklearn.metrics import confusion_matrix, accuracy_score\n",
    "def cross_validate(model,X_input,target,cv):\n",
    "    return(cross_val_score(model, X_input, target, cv=cv))\n",
    "cvada=cross_validate(bestada,testdata.data,testdata.target,3)\n",
    "cvdecitree=cross_validate(bestdecitree,testdata.data,testdata.target,3)\n",
    "pred = bestada.predict(testdata.data,testdata.target)\n",
    "\n",
    "print(cvada)\n",
    "print(cvdecitree)"
   ]
  }
 ],
 "metadata": {
  "kernelspec": {
   "display_name": "Python 3",
   "language": "python",
   "name": "python3"
  },
  "language_info": {
   "codemirror_mode": {
    "name": "ipython",
    "version": 3
   },
   "file_extension": ".py",
   "mimetype": "text/x-python",
   "name": "python",
   "nbconvert_exporter": "python",
   "pygments_lexer": "ipython3",
   "version": "3.6.8"
  }
 },
 "nbformat": 4,
 "nbformat_minor": 2
}
