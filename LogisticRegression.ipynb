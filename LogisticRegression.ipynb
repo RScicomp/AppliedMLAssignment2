{
 "cells": [
  {
   "cell_type": "code",
   "execution_count": 11,
   "metadata": {},
   "outputs": [],
   "source": [
    "import sklearn\n",
    "from sklearn import datasets\n",
    "from sklearn.linear_model import LogisticRegression\n",
    "from sklearn.feature_extraction.text import CountVectorizer\n",
    "from sklearn.feature_extraction.text import TfidfTransformer\n",
    "from sklearn.model_selection import cross_val_score\n",
    "from sklearn.model_selection import GridSearchCV, RandomizedSearchCV\n",
    "from sklearn.datasets import make_classification\n",
    "from sklearn.pipeline import Pipeline\n",
    "from time import time\n",
    "import numpy as np"
   ]
  },
  {
   "cell_type": "code",
   "execution_count": 12,
   "metadata": {},
   "outputs": [],
   "source": [
    "testdata=sklearn.datasets.fetch_20newsgroups(data_home=None, subset='test', categories=None, shuffle=True, random_state=42, remove=(), download_if_missing=True)\n",
    "data=sklearn.datasets.fetch_20newsgroups(data_home=None, subset='train', categories=None, shuffle=True, random_state=42, remove=(), download_if_missing=True)"
   ]
  },
  {
   "cell_type": "code",
   "execution_count": 39,
   "metadata": {},
   "outputs": [],
   "source": [
    "def report(results, n_top=3):\n",
    "    for i in range(1, n_top + 1):\n",
    "        candidates = np.flatnonzero(results['rank_test_score'] == i)\n",
    "        for candidate in candidates:\n",
    "            print(\"Model with rank: {0}\".format(i))\n",
    "            print(\"Mean validation score: {0:.3f} (std: {1:.3f})\"\n",
    "                  .format(results['mean_test_score'][candidate],\n",
    "                          results['std_test_score'][candidate]))\n",
    "            print(\"Parameters: {0}\".format(results['params'][candidate]))\n",
    "            print(\"\")\n",
    "            \n",
    "def build_pipeline(model = LogisticRegression(random_state=0)):\n",
    "    return Pipeline(([\n",
    "        ('vect',CountVectorizer()),\n",
    "        ('tfidf',TfidfTransformer()),\n",
    "        ('clf',model),\n",
    "    ]))\n",
    "\n",
    "\n",
    "def run_pipeline(text_ds,model=LogisticRegression(random_state=0),\n",
    "                 gridsearch = False,\n",
    "                 params ={'clf__C': [0.01, 0.05, 0.1, 0.3, 1],\n",
    "                          'tfidf__use_idf': (True, False),\n",
    "                          'clf__solver':['newton-cg', 'lbfgs', 'sag', 'saga'],\n",
    "                          'clf__class_weight': ['balanced',None]\n",
    "                         }\n",
    "                ):\n",
    "    \n",
    "    pl = build_pipeline(model)\n",
    "    pl.fit(text_ds.data,text_ds.target)\n",
    "    if(gridsearch != None):\n",
    "        if(gridsearch==True):\n",
    "            search = GridSearchCV(pl, params, n_jobs=-1,verbose=1)\n",
    "        else:\n",
    "            search =RandomizedSearchCV(pl, param_distributions=params,\n",
    "                                       n_iter=10)\n",
    "        start = time()\n",
    "        search.fit(text_ds.data,text_ds.target)\n",
    "        search.fit(data.data, data.target)\n",
    "        print(\"SearchCV took %.2f seconds for %d candidates\"\n",
    "          \" parameter settings.\" % ((time() - start), 10))\n",
    "        report(search.cv_results_)\n",
    "        return(search)\n",
    "    else:\n",
    "        return(pl)"
   ]
  },
  {
   "cell_type": "code",
   "execution_count": 34,
   "metadata": {
    "scrolled": true
   },
   "outputs": [
    {
     "name": "stderr",
     "output_type": "stream",
     "text": [
      "/usr/local/lib/python3.7/site-packages/sklearn/linear_model/logistic.py:432: FutureWarning: Default solver will be changed to 'lbfgs' in 0.22. Specify a solver to silence this warning.\n",
      "  FutureWarning)\n",
      "/usr/local/lib/python3.7/site-packages/sklearn/linear_model/logistic.py:469: FutureWarning: Default multi_class will be changed to 'auto' in 0.22. Specify the multi_class option to silence this warning.\n",
      "  \"this warning.\", FutureWarning)\n"
     ]
    }
   ],
   "source": [
    "plainLR = run_pipeline(data,LogisticRegression(), gridsearch=None).predict(testdata.data)"
   ]
  },
  {
   "cell_type": "code",
   "execution_count": 35,
   "metadata": {},
   "outputs": [
    {
     "data": {
      "text/plain": [
       "0.8279341476367499"
      ]
     },
     "execution_count": 35,
     "metadata": {},
     "output_type": "execute_result"
    }
   ],
   "source": [
    "np.mean(plainLR == testdata.target)"
   ]
  },
  {
   "cell_type": "code",
   "execution_count": 40,
   "metadata": {},
   "outputs": [
    {
     "name": "stderr",
     "output_type": "stream",
     "text": [
      "/usr/local/lib/python3.7/site-packages/sklearn/linear_model/logistic.py:432: FutureWarning: Default solver will be changed to 'lbfgs' in 0.22. Specify a solver to silence this warning.\n",
      "  FutureWarning)\n",
      "/usr/local/lib/python3.7/site-packages/sklearn/linear_model/logistic.py:469: FutureWarning: Default multi_class will be changed to 'auto' in 0.22. Specify the multi_class option to silence this warning.\n",
      "  \"this warning.\", FutureWarning)\n"
     ]
    },
    {
     "name": "stdout",
     "output_type": "stream",
     "text": [
      "Fitting 3 folds for each of 80 candidates, totalling 240 fits\n"
     ]
    },
    {
     "name": "stderr",
     "output_type": "stream",
     "text": [
      "/usr/local/lib/python3.7/site-packages/sklearn/model_selection/_split.py:1978: FutureWarning: The default value of cv will change from 3 to 5 in version 0.22. Specify it explicitly to silence this warning.\n",
      "  warnings.warn(CV_WARNING, FutureWarning)\n",
      "[Parallel(n_jobs=-1)]: Using backend LokyBackend with 12 concurrent workers.\n",
      "[Parallel(n_jobs=-1)]: Done  26 tasks      | elapsed:  1.7min\n",
      "[Parallel(n_jobs=-1)]: Done 176 tasks      | elapsed: 16.1min\n",
      "[Parallel(n_jobs=-1)]: Done 240 out of 240 | elapsed: 24.7min finished\n",
      "/usr/local/lib/python3.7/site-packages/sklearn/linear_model/logistic.py:469: FutureWarning: Default multi_class will be changed to 'auto' in 0.22. Specify the multi_class option to silence this warning.\n",
      "  \"this warning.\", FutureWarning)\n",
      "/usr/local/lib/python3.7/site-packages/sklearn/model_selection/_split.py:1978: FutureWarning: The default value of cv will change from 3 to 5 in version 0.22. Specify it explicitly to silence this warning.\n",
      "  warnings.warn(CV_WARNING, FutureWarning)\n"
     ]
    },
    {
     "name": "stdout",
     "output_type": "stream",
     "text": [
      "Fitting 3 folds for each of 80 candidates, totalling 240 fits\n"
     ]
    },
    {
     "name": "stderr",
     "output_type": "stream",
     "text": [
      "[Parallel(n_jobs=-1)]: Using backend LokyBackend with 12 concurrent workers.\n",
      "[Parallel(n_jobs=-1)]: Done  26 tasks      | elapsed:  1.7min\n",
      "[Parallel(n_jobs=-1)]: Done 176 tasks      | elapsed: 16.4min\n",
      "[Parallel(n_jobs=-1)]: Done 240 out of 240 | elapsed: 24.7min finished\n",
      "/usr/local/lib/python3.7/site-packages/sklearn/linear_model/logistic.py:469: FutureWarning: Default multi_class will be changed to 'auto' in 0.22. Specify the multi_class option to silence this warning.\n",
      "  \"this warning.\", FutureWarning)\n"
     ]
    },
    {
     "name": "stdout",
     "output_type": "stream",
     "text": [
      "SearchCV took 3000.13 seconds for 10 candidates parameter settings.\n",
      "Model with rank: 1\n",
      "Mean validation score: 0.902 (std: 0.000)\n",
      "Parameters: {'clf__C': 1, 'clf__class_weight': 'balanced', 'clf__solver': 'newton-cg', 'tfidf__use_idf': True}\n",
      "\n",
      "Model with rank: 1\n",
      "Mean validation score: 0.902 (std: 0.000)\n",
      "Parameters: {'clf__C': 1, 'clf__class_weight': 'balanced', 'clf__solver': 'lbfgs', 'tfidf__use_idf': True}\n",
      "\n",
      "Model with rank: 3\n",
      "Mean validation score: 0.901 (std: 0.000)\n",
      "Parameters: {'clf__C': 1, 'clf__class_weight': 'balanced', 'clf__solver': 'sag', 'tfidf__use_idf': True}\n",
      "\n"
     ]
    }
   ],
   "source": [
    "bestLR=run_pipeline(data,gridsearch=True)"
   ]
  },
  {
   "cell_type": "code",
   "execution_count": 42,
   "metadata": {},
   "outputs": [
    {
     "name": "stdout",
     "output_type": "stream",
     "text": [
      "0.8390865639936272\n",
      "0.8279341476367499\n"
     ]
    }
   ],
   "source": [
    "from sklearn.metrics import confusion_matrix, accuracy_score\n",
    "bestLRPred = bestLR.predict(testdata.data)\n",
    "print(accuracy_score(bestLRPred, testdata.target))\n",
    "print(accuracy_score(plainLR, testdata.target))"
   ]
  },
  {
   "cell_type": "code",
   "execution_count": 43,
   "metadata": {},
   "outputs": [
    {
     "name": "stdout",
     "output_type": "stream",
     "text": [
      "[[236   1   0   0   0   0   0   0   0   1   0   1   0   4   0   3   0   8\n",
      "    1  35]\n",
      " [  1 313  20  10   5  41   3   1   0   0   0   7   7   9  10   2   0   2\n",
      "    1   4]\n",
      " [  0  14 292  22   5  37   2   0   0   0   0   2   5   3   0   2   1   0\n",
      "    0   0]\n",
      " [  0   8  36 299  18   5  12   4   1   0   1   1  24   2   0   1   1   0\n",
      "    1   1]\n",
      " [  1   8   9  19 326   4   7   1   0   2   4   3   9   2   3   0   1   0\n",
      "    1   0]\n",
      " [  3  15  12   2   1 294   0   2   0   1   1   3   2   3   2   0   0   7\n",
      "    1   0]\n",
      " [  1   5   1  13   7   4 348  11   5   5   2   4   9   4   2   1   2   0\n",
      "    1   3]\n",
      " [  0   2   3   3   1   0   7 353  12   1   0   2   5   1   1   0   1   0\n",
      "    1   0]\n",
      " [  0   0   0   1   0   0   1   4 377   0   0   1   1   2   0   0   2   1\n",
      "    0   0]\n",
      " [  0   2   3   0   4   0   0   1   2 370   6   3   2   4   0   1   4   1\n",
      "    0   0]\n",
      " [  0   0   0   1   1   0   1   0   0  13 382   0   0   1   0   0   0   1\n",
      "    0   0]\n",
      " [  1   3   1   1   0   1   1   0   0   0   0 353   6   1   0   0   3   0\n",
      "    3   0]\n",
      " [  2   7   1  18  11   4   7  12   1   2   0   6 317  14   4   2   0   0\n",
      "    0   0]\n",
      " [  8   1   1   0   2   2   1   1   0   0   0   1   5 333   6   1   3   0\n",
      "    4   4]\n",
      " [  3   5   4   2   1   3   0   1   0   0   0   1   1   0 361   3   2   1\n",
      "    7   3]\n",
      " [ 31   1   3   0   0   0   0   0   0   0   1   0   0   3   1 369   0   6\n",
      "    3  35]\n",
      " [  1   0   0   0   1   0   0   3   0   0   0   3   0   1   1   0 326   1\n",
      "   84  11]\n",
      " [  3   1   0   0   0   0   0   0   0   0   0   0   0   2   0   0   1 331\n",
      "    0   2]\n",
      " [  1   1   4   0   2   0   0   2   0   1   2   5   0   6   3   0  11  15\n",
      "  196   9]\n",
      " [ 27   2   4   1   0   0   0   0   0   1   0   0   0   1   0  13   6   2\n",
      "    6 144]]\n",
      "[[236   2   1   0   0   0   0   0   0   1   0   1   1   4   0   4   0   7\n",
      "    1  38]\n",
      " [  2 304  21  12   5  41   3   1   0   0   0   7   9  10  11   4   0   2\n",
      "    2   4]\n",
      " [  0  13 294  24   6  38   2   1   0   0   0   3   5   1   0   2   0   0\n",
      "    0   0]\n",
      " [  0   8  31 283  21   5  12   4   0   0   1   0  20   2   0   1   1   0\n",
      "    0   0]\n",
      " [  1   8  12  22 319   4   7   0   0   2   3   3   9   2   2   0   1   0\n",
      "    1   0]\n",
      " [  1  19  10   2   1 292   0   2   0   0   1   4   4   2   1   1   0   9\n",
      "    1   0]\n",
      " [  3   7   2  13  11   3 351  12   6   6   2   5   8  13   2   1   5   1\n",
      "    4   4]\n",
      " [  0   1   2   3   1   0   3 352  10   1   0   2   5   1   1   0   3   1\n",
      "    1   0]\n",
      " [  3   0   1   1   1   1   2   4 379   0   0   1   2   5   0   0   2   1\n",
      "    2   0]\n",
      " [  3   1   5   1   5   1   1   2   2 368   9   5   3   4   0   2   4   3\n",
      "    0   2]\n",
      " [  1   0   0   1   1   0   1   0   0  15 382   0   0   0   1   0   1   1\n",
      "    0   2]\n",
      " [  1   4   1   1   0   1   0   0   0   0   0 352  10   0   0   0   5   1\n",
      "    2   0]\n",
      " [  2  10   1  24  10   3   7  13   1   2   0   5 307  11   2   2   1   0\n",
      "    2   0]\n",
      " [  9   1   2   0   0   2   1   1   0   0   0   0   4 331   6   1   4   0\n",
      "    4   8]\n",
      " [  2   5   4   4   1   4   0   1   0   0   0   1   5   0 363   3   2   0\n",
      "    8   3]\n",
      " [ 35   2   2   0   0   0   0   0   0   0   0   0   1   3   1 371   0   3\n",
      "    4  48]\n",
      " [  3   1   0   0   0   0   0   1   0   1   0   4   0   1   2   0 326   3\n",
      "   97  17]\n",
      " [  4   1   0   0   0   0   0   0   0   0   0   0   0   3   0   0   1 333\n",
      "    2   2]\n",
      " [  1   1   4   0   3   0   0   2   0   0   1   3   0   3   2   0   7  11\n",
      "  179   9]\n",
      " [ 12   1   1   1   0   0   0   0   0   1   0   0   0   0   0   6   1   0\n",
      "    0 114]]\n"
     ]
    }
   ],
   "source": [
    "print(confusion_matrix(bestLRPred,testdata.target))\n",
    "print(confusion_matrix(plainLR,testdata.target))\n"
   ]
  },
  {
   "cell_type": "code",
   "execution_count": null,
   "metadata": {},
   "outputs": [],
   "source": []
  }
 ],
 "metadata": {
  "kernelspec": {
   "display_name": "Python 3",
   "language": "python",
   "name": "python3"
  },
  "language_info": {
   "codemirror_mode": {
    "name": "ipython",
    "version": 3
   },
   "file_extension": ".py",
   "mimetype": "text/x-python",
   "name": "python",
   "nbconvert_exporter": "python",
   "pygments_lexer": "ipython3",
   "version": "3.7.4"
  }
 },
 "nbformat": 4,
 "nbformat_minor": 2
}
