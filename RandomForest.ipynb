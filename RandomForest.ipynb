{
 "cells": [
  {
   "cell_type": "code",
   "execution_count": 1,
   "metadata": {},
   "outputs": [],
   "source": [
    "import sklearn\n",
    "from sklearn import datasets\n",
    "from sklearn.ensemble import RandomForestClassifier\n",
    "from sklearn.linear_model import LogisticRegression\n",
    "from sklearn.feature_extraction.text import CountVectorizer\n",
    "from sklearn.feature_extraction.text import TfidfTransformer\n",
    "from sklearn.model_selection import cross_val_score\n",
    "from sklearn.model_selection import GridSearchCV, RandomizedSearchCV\n",
    "from sklearn.datasets import make_classification\n",
    "from sklearn.pipeline import Pipeline\n",
    "from time import time\n",
    "import numpy as np"
   ]
  },
  {
   "cell_type": "code",
   "execution_count": 2,
   "metadata": {},
   "outputs": [],
   "source": [
    "testdata=sklearn.datasets.fetch_20newsgroups(data_home=None, subset='test', categories=None, shuffle=True, random_state=42, remove=(['headers', 'footers', 'quotes']), download_if_missing=True)\n",
    "data=sklearn.datasets.fetch_20newsgroups(data_home=None, subset='train', categories=None, shuffle=True, random_state=42, remove=(['headers', 'footers', 'quotes']), download_if_missing=True)"
   ]
  },
  {
   "cell_type": "code",
   "execution_count": 3,
   "metadata": {},
   "outputs": [],
   "source": [
    "def report(results, n_top=3):\n",
    "    for i in range(1, n_top + 1):\n",
    "        candidates = np.flatnonzero(results['rank_test_score'] == i)\n",
    "        for candidate in candidates:\n",
    "            print(\"Model with rank: {0}\".format(i))\n",
    "            print(\"Mean validation score: {0:.3f} (std: {1:.3f})\"\n",
    "                  .format(results['mean_test_score'][candidate],\n",
    "                          results['std_test_score'][candidate]))\n",
    "            print(\"Parameters: {0}\".format(results['params'][candidate]))\n",
    "            print(\"\")\n",
    "            \n",
    "def build_pipeline_RF(model = RandomForestClassifier(random_state=0)):\n",
    "    return Pipeline(([\n",
    "        ('vect',CountVectorizer()),\n",
    "        ('tfidf',TfidfTransformer()),\n",
    "        ('clf',model),\n",
    "    ]))\n",
    "\n",
    "\n",
    "def run_pipeline_RF(text_ds,model=RandomForestClassifier(random_state=0),\n",
    "                 gridsearch = False,\n",
    "                 params ={'clf__criterion':['gini','entropy'],\n",
    "                          'clf__n_estimators':[100,200,400,800]\n",
    "                         }):\n",
    "    \n",
    "    pl = build_pipeline_RF(model)\n",
    "    pl.fit(text_ds.data,text_ds.target)\n",
    "    if(gridsearch != None):\n",
    "        if(gridsearch==True):\n",
    "            search = GridSearchCV(pl, params, n_jobs=-1,verbose=1)\n",
    "        else:\n",
    "            search =RandomizedSearchCV(pl, param_distributions=params,\n",
    "                                       n_iter=10)\n",
    "        start = time()\n",
    "        search.fit(text_ds.data,text_ds.target)\n",
    "        search.fit(data.data, data.target)\n",
    "        print(\"SearchCV took %.2f seconds for %d candidates\"\n",
    "          \" parameter settings.\" % ((time() - start), 10))\n",
    "        report(search.cv_results_)\n",
    "        return(search)\n",
    "    else:\n",
    "        return(pl)"
   ]
  },
  {
   "cell_type": "code",
   "execution_count": 7,
   "metadata": {
    "scrolled": true
   },
   "outputs": [],
   "source": [
    "plainLFPred = run_pipeline_RF(data,gridsearch=None).predict(testdata.data)"
   ]
  },
  {
   "cell_type": "code",
   "execution_count": 8,
   "metadata": {},
   "outputs": [
    {
     "data": {
      "text/plain": [
       "0.4264471587891662"
      ]
     },
     "execution_count": 8,
     "metadata": {},
     "output_type": "execute_result"
    }
   ],
   "source": [
    "np.mean(plainLFPred == testdata.target)"
   ]
  },
  {
   "cell_type": "code",
   "execution_count": 9,
   "metadata": {},
   "outputs": [
    {
     "name": "stdout",
     "output_type": "stream",
     "text": [
      "Fitting 3 folds for each of 8 candidates, totalling 24 fits\n"
     ]
    },
    {
     "name": "stderr",
     "output_type": "stream",
     "text": [
      "/usr/local/lib/python3.7/site-packages/sklearn/model_selection/_split.py:1978: FutureWarning: The default value of cv will change from 3 to 5 in version 0.22. Specify it explicitly to silence this warning.\n",
      "  warnings.warn(CV_WARNING, FutureWarning)\n",
      "[Parallel(n_jobs=-1)]: Using backend LokyBackend with 12 concurrent workers.\n",
      "[Parallel(n_jobs=-1)]: Done  24 out of  24 | elapsed:  9.1min finished\n"
     ]
    },
    {
     "name": "stdout",
     "output_type": "stream",
     "text": [
      "Fitting 3 folds for each of 8 candidates, totalling 24 fits\n"
     ]
    },
    {
     "name": "stderr",
     "output_type": "stream",
     "text": [
      "/usr/local/lib/python3.7/site-packages/sklearn/model_selection/_split.py:1978: FutureWarning: The default value of cv will change from 3 to 5 in version 0.22. Specify it explicitly to silence this warning.\n",
      "  warnings.warn(CV_WARNING, FutureWarning)\n",
      "[Parallel(n_jobs=-1)]: Using backend LokyBackend with 12 concurrent workers.\n",
      "[Parallel(n_jobs=-1)]: Done  24 out of  24 | elapsed:  9.3min finished\n"
     ]
    },
    {
     "name": "stdout",
     "output_type": "stream",
     "text": [
      "SearchCV took 1652.71 seconds for 10 candidates parameter settings.\n",
      "Model with rank: 1\n",
      "Mean validation score: 0.660 (std: 0.008)\n",
      "Parameters: {'clf__criterion': 'gini', 'clf__n_estimators': 800}\n",
      "\n",
      "Model with rank: 2\n",
      "Mean validation score: 0.657 (std: 0.008)\n",
      "Parameters: {'clf__criterion': 'gini', 'clf__n_estimators': 400}\n",
      "\n",
      "Model with rank: 3\n",
      "Mean validation score: 0.645 (std: 0.006)\n",
      "Parameters: {'clf__criterion': 'gini', 'clf__n_estimators': 200}\n",
      "\n"
     ]
    }
   ],
   "source": [
    "bestLF=run_pipeline_RF(data,gridsearch=True)"
   ]
  },
  {
   "cell_type": "code",
   "execution_count": 10,
   "metadata": {},
   "outputs": [
    {
     "name": "stdout",
     "output_type": "stream",
     "text": [
      "0.4264471587891662\n",
      "0.6283855549654807\n"
     ]
    }
   ],
   "source": [
    "from sklearn.metrics import confusion_matrix, accuracy_score\n",
    "bestLFPredict = bestLF.predict(testdata.data)\n",
    "print(accuracy_score(plainLFPredict, testdata.target))\n",
    "print(accuracy_score(bestLFPredict, testdata.target))"
   ]
  },
  {
   "cell_type": "code",
   "execution_count": 12,
   "metadata": {},
   "outputs": [
    {
     "name": "stdout",
     "output_type": "stream",
     "text": [
      "[[114   1   5   0   0   2   0   7   1   1   2   4   2   8   6  19   9  25\n",
      "   17  41]\n",
      " [  3 237  17  12   6  31   4   5   1   3   0  10  29  22   9   3   3   3\n",
      "    1   3]\n",
      " [  3  34 259  45  13  38   3   6   4   5   1   6  13   2   4   4   2   2\n",
      "    2   4]\n",
      " [  0  12  24 231  32   6  13   0   2   1   1   2  30   3   4   0   2   0\n",
      "    0   0]\n",
      " [  1  10  14  32 251  10  11   3   3   0   1   8  20   3   3   0   2   0\n",
      "    1   3]\n",
      " [  2  33  15   6   5 273   0   4   0   1   1   4  15   4   2   1   4   1\n",
      "    0   0]\n",
      " [  7   6   3  14  20   6 314  15   9   3   1   4  16  16   4   3   5   2\n",
      "    4   1]\n",
      " [ 16   9  16  15  19   9  13 271  39  19  13  22  31  28  28  14  25  10\n",
      "   10  10]\n",
      " [ 11   8   4   3   6   3   9  28 291   7   3   4  10  18   9   9   9   9\n",
      "    9   8]\n",
      " [ 14  10  13   5   6   4   2  12  19 313  28  10  12  11  10  13  13  14\n",
      "   19  13]\n",
      " [  4   1   4   2   3   0   1   1   4  34 335   3   6   2   5   1   2   1\n",
      "    3   0]\n",
      " [  5   3   2   3   5   4   1   1   1   1   0 263  17   0   2   0  14   5\n",
      "    3   4]\n",
      " [  1  10   1  23  16   1   3  20   7   0   0  14 164  11  12   6   5   2\n",
      "    3   2]\n",
      " [  5   1   0   0   0   0   1   2   2   2   2   2  10 247  10   4   7   2\n",
      "   18   7]\n",
      " [ 13   9  10   1   2   6   8   7   2   1   3   6  13   7 272   6   7   4\n",
      "   10   5]\n",
      " [ 90   3   0   0   0   2   1   2   5   3   1   3   1   6   5 304  13  14\n",
      "   15  90]\n",
      " [ 10   0   3   0   0   0   6   6   5   1   1  22   3   2   3   1 227  11\n",
      "   95  26]\n",
      " [ 10   1   3   0   1   0   0   3   2   1   1   5   1   2   2   3   2 260\n",
      "    5  14]\n",
      " [  4   1   0   0   0   0   0   3   1   1   3   3   0   3   4   2   9  10\n",
      "   92   5]\n",
      " [  6   0   1   0   0   0   0   0   0   0   2   1   0   1   0   5   4   1\n",
      "    3  15]]\n",
      "[[ 83   9  10   5  10  12   4  16  16  10   7  15  17  33  19  33  29  42\n",
      "   37  38]\n",
      " [  7 181  44  48  37  55  14  10   9  10   5  21  40  34  17  10   9   7\n",
      "    3   8]\n",
      " [  6  41 193  47  23  59   8  11  12   8   4  13  33  12  10   4   6   4\n",
      "   10   6]\n",
      " [  7  19  29 157  53  17  37  16  11   7   4  12  33   7   8   5   3   5\n",
      "    4   5]\n",
      " [ 11  25  26  34 167   9  20  25  20   4   5  15  38  11  10   4   8   4\n",
      "    6   3]\n",
      " [  8  30  20  16   9 182   5  12   6   3   3  12  38  13  13   4   2   6\n",
      "    3   3]\n",
      " [  7   5   3  17  14   3 235  23  14   9   8  11  22  12  11   7   7   4\n",
      "    7   1]\n",
      " [ 15  11  22  17  27  13  21 190  52  34  16  25  31  35  35  20  21  15\n",
      "   23  16]\n",
      " [ 19   7   9   6   9   5  11  22 180  11   9  13  15  17  15  13  16  14\n",
      "   17  10]\n",
      " [ 10   5   3   2   8   6   8   4  13 223  76   8   7  10   6   6  20  12\n",
      "    7  10]\n",
      " [ 13   6   6   4   2   2   1   3   6  54 228   8   4   8   4   7   6   3\n",
      "   10   6]\n",
      " [  9   5   1   4   3   4   2   7   4   2   4 193  15   3   5   7  23  14\n",
      "   16   9]\n",
      " [  4  11   6  15  10   9   5  10  10   3   7  10  66  26  10   9  14   3\n",
      "    5   7]\n",
      " [  7   3   2   4   2   3   2   9   9   7   2   2   9 145  15  10  13   9\n",
      "   17  11]\n",
      " [ 16  20   7   9   7   8  10  13   8   2   5   7  12   8 192  10  12   5\n",
      "   13  11]\n",
      " [ 60   2   3   1   0   1   1   4   4   0   3   2   4   5   7 218   8  14\n",
      "   16  60]\n",
      " [  4   2   4   0   2   1   1   9  10   1   4  13   6   4   3   6 137  14\n",
      "   62  14]\n",
      " [ 12   4   3   2   0   2   2   4   4   6   4   6   0   6   7   8  13 191\n",
      "   13  10]\n",
      " [  9   1   2   3   1   1   1   5   5   1   4   9   2   5   4   5  10   9\n",
      "   35   7]\n",
      " [ 12   2   1   1   1   3   2   3   5   2   1   1   1   2   3  12   7   1\n",
      "    6  16]]\n"
     ]
    }
   ],
   "source": [
    "print(confusion_matrix(bestLFPredict,testdata.target))\n",
    "print(confusion_matrix(plainLFPredict,testdata.target))\n"
   ]
  },
  {
   "cell_type": "code",
   "execution_count": null,
   "metadata": {},
   "outputs": [],
   "source": []
  }
 ],
 "metadata": {
  "kernelspec": {
   "display_name": "Python 3",
   "language": "python",
   "name": "python3"
  },
  "language_info": {
   "codemirror_mode": {
    "name": "ipython",
    "version": 3
   },
   "file_extension": ".py",
   "mimetype": "text/x-python",
   "name": "python",
   "nbconvert_exporter": "python",
   "pygments_lexer": "ipython3",
   "version": "3.7.4"
  }
 },
 "nbformat": 4,
 "nbformat_minor": 2
}